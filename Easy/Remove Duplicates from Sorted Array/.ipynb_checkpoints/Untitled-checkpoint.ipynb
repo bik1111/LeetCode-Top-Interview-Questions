{
 "cells": [
  {
   "cell_type": "code",
   "execution_count": 39,
   "id": "ca8c01b9-dedc-4093-9993-7598587f3dda",
   "metadata": {},
   "outputs": [
    {
     "ename": "SyntaxError",
     "evalue": "'return' outside function (1639837204.py, line 6)",
     "output_type": "error",
     "traceback": [
      "\u001b[0;36m  Cell \u001b[0;32mIn[39], line 6\u001b[0;36m\u001b[0m\n\u001b[0;31m    return True\u001b[0m\n\u001b[0m    ^\u001b[0m\n\u001b[0;31mSyntaxError\u001b[0m\u001b[0;31m:\u001b[0m 'return' outside function\n"
     ]
    }
   ],
   "source": [
    "haystack = \"sadbutsad\"\n",
    "needle = \"sad\"\n",
    "firstWord = needle[0]\n",
    "\n",
    "if firstWord in haystack:\n",
    "    result = True"
   ]
  },
  {
   "cell_type": "code",
   "execution_count": null,
   "id": "ebadf339-a7c5-465b-8b4f-c6908db7ed56",
   "metadata": {},
   "outputs": [],
   "source": []
  }
 ],
 "metadata": {
  "kernelspec": {
   "display_name": "Python 3 (ipykernel)",
   "language": "python",
   "name": "python3"
  },
  "language_info": {
   "codemirror_mode": {
    "name": "ipython",
    "version": 3
   },
   "file_extension": ".py",
   "mimetype": "text/x-python",
   "name": "python",
   "nbconvert_exporter": "python",
   "pygments_lexer": "ipython3",
   "version": "3.11.6"
  }
 },
 "nbformat": 4,
 "nbformat_minor": 5
}
