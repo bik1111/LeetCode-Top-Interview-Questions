{
 "cells": [
  {
   "cell_type": "code",
   "execution_count": 10,
   "id": "cd43db35-de71-4875-929c-63c63bff9f61",
   "metadata": {},
   "outputs": [
    {
     "name": "stdout",
     "output_type": "stream",
     "text": [
      "123\n",
      "1\n",
      "<class 'str'>\n",
      "2\n",
      "<class 'str'>\n",
      "3\n",
      "<class 'str'>\n"
     ]
    }
   ],
   "source": [
    "from typing import List\n",
    "\n",
    "\n",
    "class Solution:\n",
    "    def plusOne(self, digits: List[int]) -> List[int]:\n",
    "        for i in range(len(digits), -1, -1):\n",
    "            if digits[i] == 9:\n",
    "                digits[i] == 0\n",
    "            else:\n",
    "                digist = digits[i] + 1\n",
    "            return digits\n",
    "        return [1] + digits\n"
   ]
  },
  {
   "cell_type": "code",
   "execution_count": null,
   "id": "ed07ec61-0ace-480e-831e-adf606426138",
   "metadata": {},
   "outputs": [],
   "source": []
  }
 ],
 "metadata": {
  "kernelspec": {
   "display_name": "Python 3 (ipykernel)",
   "language": "python",
   "name": "python3"
  },
  "language_info": {
   "codemirror_mode": {
    "name": "ipython",
    "version": 3
   },
   "file_extension": ".py",
   "mimetype": "text/x-python",
   "name": "python",
   "nbconvert_exporter": "python",
   "pygments_lexer": "ipython3",
   "version": "3.11.6"
  }
 },
 "nbformat": 4,
 "nbformat_minor": 5
}
